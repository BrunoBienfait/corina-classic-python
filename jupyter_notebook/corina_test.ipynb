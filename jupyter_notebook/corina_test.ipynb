{
 "cells": [
  {
   "cell_type": "code",
   "execution_count": 2,
   "id": "bb091a1c-b656-44e6-b5ce-a2780e56b6a8",
   "metadata": {},
   "outputs": [
    {
     "data": {
      "text/plain": [
       "'\\n  corina  08112317533D 1   1.00000     0.00000     0\\n\\n  0  0  0  0  0  0              0 V3000\\nM  V30 BEGIN CTAB\\nM  V30 COUNTS 5 4 0 0 0\\nM  V30 BEGIN ATOM\\nM  V30 1 C  -0.036560 1.099233 -2.490318 0\\nM  V30 2 C  -0.752699 1.592651 -1.231516 0\\nM  V30 3 C  -0.012706 1.085816 0.008011 0\\nM  V30 4 C  -0.728844 1.579234 1.266814 0\\nM  V30 5 C  0.011149 1.072399 2.506341 0\\nM  V30 END ATOM\\nM  V30 BEGIN BOND\\nM  V30 1 1 1 2\\nM  V30 2 1 2 3\\nM  V30 3 1 3 4\\nM  V30 4 1 4 5\\nM  V30 END BOND\\nM  V30 END CTAB\\nM  END\\n$$$$\\n'"
      ]
     },
     "execution_count": 2,
     "metadata": {},
     "output_type": "execute_result"
    }
   ],
   "source": [
    "import corina\n",
    "\n",
    "buffer = corina.CorinaBuffer()  # Create an instance of CorinaBuffer\n",
    "smiles = \"CCCCC\"\n",
    "\n",
    "buffer.command = \"corina -i t=smiles -o t=sdf3\"\n",
    "buffer.input = smiles\n",
    "buffer.proceed()\n",
    "\n",
    "buffer.output # Display output as a python string\n"
   ]
  },
  {
   "cell_type": "code",
   "execution_count": null,
   "id": "b70688c1-b867-4f1b-882e-a54b4323c9bf",
   "metadata": {},
   "outputs": [],
   "source": []
  }
 ],
 "metadata": {
  "kernelspec": {
   "display_name": "Python 3 (ipykernel)",
   "language": "python",
   "name": "python3"
  },
  "language_info": {
   "codemirror_mode": {
    "name": "ipython",
    "version": 3
   },
   "file_extension": ".py",
   "mimetype": "text/x-python",
   "name": "python",
   "nbconvert_exporter": "python",
   "pygments_lexer": "ipython3",
   "version": "3.8.10"
  }
 },
 "nbformat": 4,
 "nbformat_minor": 5
}
